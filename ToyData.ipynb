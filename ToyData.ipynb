{
  "nbformat": 4,
  "nbformat_minor": 0,
  "metadata": {
    "kernelspec": {
      "display_name": "Python [conda env:tf_1.10_gpu_py_35]",
      "language": "python",
      "name": "conda-env-tf_1.10_gpu_py_35-py"
    },
    "language_info": {
      "codemirror_mode": {
        "name": "ipython",
        "version": 3
      },
      "file_extension": ".py",
      "mimetype": "text/x-python",
      "name": "python",
      "nbconvert_exporter": "python",
      "pygments_lexer": "ipython3",
      "version": "3.5.5"
    },
    "colab": {
      "name": "ToyData.ipynb",
      "provenance": [],
      "collapsed_sections": [],
      "toc_visible": true
    },
    "accelerator": "GPU"
  },
  "cells": [
    {
      "cell_type": "markdown",
      "metadata": {
        "id": "6xh2trbpUepG"
      },
      "source": [
        "# Deterministic Variational Inference: Toy example\n",
        "Code to accompany [**Fixing Variational Bayes: Deterministic Variational Inference for Bayesian Neural Networks**](https://arxiv.org/abs/1810.03958)"
      ]
    },
    {
      "cell_type": "code",
      "metadata": {
        "id": "iX60tMlDFIu6"
      },
      "source": [
        "!rm -rf deterministic-variational-inference"
      ],
      "execution_count": 1,
      "outputs": []
    },
    {
      "cell_type": "code",
      "metadata": {
        "id": "jhpa0_ecUfyG",
        "colab": {
          "base_uri": "https://localhost:8080/"
        },
        "outputId": "a39c22e5-45d8-43fb-a672-7ec3f3c0249d"
      },
      "source": [
        "!git clone https://github.com/EmptyJackson/deterministic-variational-inference\n",
        "%cd deterministic-variational-inference/"
      ],
      "execution_count": 2,
      "outputs": [
        {
          "output_type": "stream",
          "text": [
            "Cloning into 'deterministic-variational-inference'...\n",
            "remote: Enumerating objects: 10, done.\u001b[K\n",
            "remote: Counting objects:  10% (1/10)\u001b[K\rremote: Counting objects:  20% (2/10)\u001b[K\rremote: Counting objects:  30% (3/10)\u001b[K\rremote: Counting objects:  40% (4/10)\u001b[K\rremote: Counting objects:  50% (5/10)\u001b[K\rremote: Counting objects:  60% (6/10)\u001b[K\rremote: Counting objects:  70% (7/10)\u001b[K\rremote: Counting objects:  80% (8/10)\u001b[K\rremote: Counting objects:  90% (9/10)\u001b[K\rremote: Counting objects: 100% (10/10)\u001b[K\rremote: Counting objects: 100% (10/10), done.\u001b[K\n",
            "remote: Compressing objects: 100% (9/9), done.\u001b[K\n",
            "remote: Total 33 (delta 1), reused 5 (delta 1), pack-reused 23\u001b[K\n",
            "Unpacking objects: 100% (33/33), done.\n",
            "/content/deterministic-variational-inference\n"
          ],
          "name": "stdout"
        }
      ]
    },
    {
      "cell_type": "code",
      "metadata": {
        "id": "E60xV9XEczLs"
      },
      "source": [
        "import subprocess\n",
        "import glob\n",
        "\n",
        "!mkdir frames\n",
        "vid_folder = \"frames\""
      ],
      "execution_count": 3,
      "outputs": []
    },
    {
      "cell_type": "code",
      "metadata": {
        "colab": {
          "base_uri": "https://localhost:8080/"
        },
        "id": "oiFvVi9LUepU",
        "outputId": "273104d2-3211-4bcc-ecd3-a3a3224ef664"
      },
      "source": [
        "%matplotlib inline\n",
        "\n",
        "import numpy as np\n",
        "import tensorflow.compat.v1 as tf\n",
        "tf.disable_v2_behavior()\n",
        "\n",
        "import matplotlib.pyplot as plt\n",
        "from IPython.display import clear_output\n",
        "import os, json \n",
        "\n",
        "import gaussian_variables as gv\n",
        "import utils as u\n",
        "import plot_utils as pu\n",
        "import bayes_layers as bnn\n",
        "from bayes_models import MLP, PointMLP, AdaptedMLP\n",
        "\n",
        "np.random.seed(3)"
      ],
      "execution_count": 4,
      "outputs": [
        {
          "output_type": "stream",
          "text": [
            "WARNING:tensorflow:From /usr/local/lib/python3.7/dist-packages/tensorflow/python/compat/v2_compat.py:96: disable_resource_variables (from tensorflow.python.ops.variable_scope) is deprecated and will be removed in a future version.\n",
            "Instructions for updating:\n",
            "non-resource variables are not supported in the long term\n"
          ],
          "name": "stdout"
        }
      ]
    },
    {
      "cell_type": "code",
      "metadata": {
        "colab": {
          "base_uri": "https://localhost:8080/"
        },
        "id": "3uv3P9y4y3tD",
        "outputId": "07207eef-eb93-45c5-a9b8-d4fcbd53c68c"
      },
      "source": [
        "print(\"Num GPUs Available: \", len(tf.config.list_physical_devices('GPU')))"
      ],
      "execution_count": 5,
      "outputs": [
        {
          "output_type": "stream",
          "text": [
            "Num GPUs Available:  1\n"
          ],
          "name": "stdout"
        }
      ]
    },
    {
      "cell_type": "markdown",
      "metadata": {
        "id": "L3s0DeSTUepV"
      },
      "source": [
        "## Dataset\n",
        "\n",
        "First we generate a toy dataset according to:\n",
        "\n",
        "\\begin{equation}\n",
        "    y = -(x+0.5)\\sin(3\\pi x) + \\eta\n",
        "\\end{equation}\n",
        "\n",
        "Where the noise is generated according to:\n",
        "\n",
        "\\begin{equation}\n",
        "    \\eta = 0.45(x + 0.5)^2\n",
        "\\end{equation}"
      ]
    },
    {
      "cell_type": "code",
      "metadata": {
        "id": "2RpyhYfrUepV",
        "colab": {
          "base_uri": "https://localhost:8080/",
          "height": 283
        },
        "outputId": "69f7e1ba-97d7-451e-dee7-f05c8ede7762"
      },
      "source": [
        "def base_model(x):\n",
        "    return -(x+0.5)*np.sin(3 * np.pi *x)\n",
        "\n",
        "def noise_model(x):\n",
        "    return 0.45*(x+0.5)**2\n",
        "\n",
        "def sample_data(x):\n",
        "    return base_model(x) + np.random.normal(0, noise_model(x))\n",
        "\n",
        "data_size = {'train': 500, 'valid': 100, 'test': 100}\n",
        "toy_data = []\n",
        "for section in ['train', 'valid', 'test']:\n",
        "    x = (np.random.rand(data_size['train'], 1) - 0.5)\n",
        "    toy_data.append([x, sample_data(x).reshape(-1)])    \n",
        "x = np.arange(-1,1,1/100)\n",
        "toy_data.append([[[_] for _ in x], base_model(x)])\n",
        "\n",
        "pu.toy_results_plot(toy_data, {'mean':base_model, 'std':noise_model})"
      ],
      "execution_count": 6,
      "outputs": [
        {
          "output_type": "display_data",
          "data": {
            "image/png": "[encoded data removed]",
            "text/plain": [
              "<Figure size 432x288 with 1 Axes>"
            ]
          },
          "metadata": {
            "tags": [],
            "needs_background": "light"
          }
        }
      ]
    },
    {
      "cell_type": "markdown",
      "metadata": {
        "id": "VbCqZw7vUepX"
      },
      "source": [
        "# Model\n",
        "\n",
        "Here we set the hyperparameters and provide a function for constructing a Bayesian Neural Network."
      ]
    },
    {
      "cell_type": "code",
      "metadata": {
        "id": "26xuBfrZUepX"
      },
      "source": [
        "hypers = {\n",
        "    \"x_dim\": 1,                                \"y_dim\": 2,\n",
        "    \"hidden_dims\": [128,128],                  \"nonlinearity\": \"relu\",\n",
        "    \"adapter\": {\n",
        "        'in' : {\"scale\": [[1.0]], \"shift\": [[0.0]]},\n",
        "        'out': {\"scale\": [[1.0, 0.83]], \"shift\": [[0.0, -3.5]]}\n",
        "    },\n",
        "    \n",
        "    \"method\": \"bayes\",                         \"style\": \"heteroskedastic\",\n",
        "    \"homo_logvar_scale\": 2*np.log(0.2),        \"prior_type\": [\"empirical\", \"wider_he\", \"wider_he\"],\n",
        "    \n",
        "    \"n_epochs\": 7500,                         \"batch_size\": 500,\n",
        "    \"learning_rate\": 0.001,                    \"lambda\": 1.0,\n",
        "    \"warmup_updates\": {'lambda': 14000.0},     \"anneal_updates\": {'lambda': 1000.0},\n",
        "    \"optimizer\": \"adam\",                       \"gradient_clip\": 0.1,\n",
        "\n",
        "    \"data_fraction\": 1.0,                      \"sections_to_run\": [\"train\"]\n",
        "}"
      ],
      "execution_count": 7,
      "outputs": []
    },
    {
      "cell_type": "code",
      "metadata": {
        "id": "r7ma40-uUepX"
      },
      "source": [
        "def make_model(hypers):\n",
        "    if hypers['method'].lower().strip() == 'bayes':\n",
        "        MLP_factory = MLP\n",
        "        prediction = lambda y: tf.reshape(y.mean[:,0], [-1])\n",
        "        loss = bnn.regression_loss\n",
        "    else:\n",
        "        MLP_factory = PointMLP\n",
        "        prediction = lambda y: tf.reshape(y.mean[:,0], [-1])\n",
        "        loss = bnn.point_regression_loss\n",
        "        \n",
        "    mlp = MLP_factory(hypers['x_dim'], hypers['y_dim'], hypers)\n",
        "    mlp = AdaptedMLP(mlp)\n",
        "    mlp.make_placeholders()\n",
        "    ipt = mlp.placeholders['ipt_mean']\n",
        "    y = mlp(ipt)\n",
        "\n",
        "    target = tf.placeholder(tf.float32, [None])\n",
        "    mlp.placeholders['target'] = target\n",
        "    global_step = tf.Variable(0, trainable=False, name='global_step')\n",
        "    loss, logprob, all_surprise = loss(y, target, mlp, hypers, global_step)\n",
        "\n",
        "    accuracy = tf.reduce_mean(tf.abs(target - prediction(y)))\n",
        "    \n",
        "    return {\n",
        "        'model': mlp,\n",
        "        'metrics': {\n",
        "            'accuracy': accuracy,   'loss': loss,\n",
        "            'logprob': logprob,     'all_surprise': all_surprise\n",
        "            },\n",
        "        'global_step': global_step}"
      ],
      "execution_count": 8,
      "outputs": []
    },
    {
      "cell_type": "markdown",
      "metadata": {
        "id": "3vji4qCcUepY"
      },
      "source": [
        "## Training loop\n",
        "\n",
        "For the first `warmup_updates` epochs we run with the KL term in the elbo turned off. You will observe that the model starts to overfit the data. The KL term is then ramped back on and the model is trained with the full ELBO to convergence."
      ]
    },
    {
      "cell_type": "code",
      "metadata": {
        "scrolled": true,
        "id": "EitP5wjZUepY",
        "colab": {
          "base_uri": "https://localhost:8080/",
          "height": 442
        },
        "outputId": "4061b0b1-0a48-43b9-926f-fa31f1569cc5"
      },
      "source": [
        "run_id = u.start_run()\n",
        "\n",
        "data = toy_data\n",
        "\n",
        "restricted_training_set = u.restrict_dataset_size(data[0], hypers['data_fraction'])\n",
        "hypers['dataset_size'] = len(restricted_training_set[0])\n",
        "\n",
        "device_id = 0\n",
        "device_string = u.get_device_string(device_id)\n",
        "print(hypers)\n",
        "with tf.device(device_string):\n",
        "    if True:\n",
        "        model_and_metrics = make_model(hypers)\n",
        "        train_op = u.make_optimizer(model_and_metrics, hypers)\n",
        "        sess = u.get_session()\n",
        "        saver = tf.train.Saver()\n",
        "\n",
        "        all_summaries = []\n",
        "        best_valid_accuracy = np.inf\n",
        "    \n",
        "    for epoch in range(hypers['n_epochs']):\n",
        "        verbose = (epoch % 20 == 0)\n",
        "        if verbose:\n",
        "            print(\"Epoch %i:        \" % epoch, end='')\n",
        "        epoch_summary, accuracies = u.train_valid_test(\n",
        "            {\n",
        "                'train': restricted_training_set,\n",
        "                'valid': data[1],\n",
        "                'test': data[2]\n",
        "            },\n",
        "            sess, model_and_metrics, train_op, hypers, verbose)\n",
        "\n",
        "        if epoch % 1000 == 0:\n",
        "            clear_output()\n",
        "\n",
        "        frame_break = 50\n",
        "        if epoch % frame_break == 0 and epoch != 0:\n",
        "            predictions = u.get_predictions(data[3], sess, model_and_metrics['model'], hypers)\n",
        "            pu.toy_results_plot(toy_data, {'mean':base_model, 'std':noise_model}, hypers, predictions)\n",
        "            plt.savefig(vid_folder + \"/file%02d.png\" % (epoch/frame_break), dpi=200)\n",
        "            plt.clf()\n",
        "            #plt.show()\n",
        "\n",
        "        # dump log file\n",
        "        all_summaries.append(epoch_summary)\n",
        "        #with open(os.path.join(\"logs\", run_id, \"results.json\"), 'w') as f:\n",
        "        #    json.dump(all_summaries, f, indent=4, cls=u.NumpyEncoder)\n",
        "\n",
        "os.chdir(vid_folder)\n",
        "subprocess.call([\n",
        "    'ffmpeg', '-framerate', '15', '-i', 'file%02d.png', '-r', '30', '-pix_fmt', 'yuv420p',\n",
        "    'train.mp4'\n",
        "])\n",
        "for file_name in glob.glob(\"*.png\"):\n",
        "    os.remove(file_name)"
      ],
      "execution_count": 9,
      "outputs": [
        {
          "output_type": "stream",
          "text": [
            "Epoch 7020:         train accuracy = 0.1150 | logprob = 0.9254 | KL term = 15.3170673828125\n",
            "Epoch 7040:         train accuracy = 0.1149 | logprob = 0.9309 | KL term = 15.328740234375\n",
            "Epoch 7060:         train accuracy = 0.1149 | logprob = 0.9362 | KL term = 15.3406376953125\n",
            "Epoch 7080:         train accuracy = 0.1148 | logprob = 0.9414 | KL term = 15.35257421875\n",
            "Epoch 7100:         train accuracy = 0.1148 | logprob = 0.9465 | KL term = 15.3643720703125\n",
            "Epoch 7120:         train accuracy = 0.1148 | logprob = 0.9515 | KL term = 15.3759638671875\n",
            "Epoch 7140:         train accuracy = 0.1147 | logprob = 0.9564 | KL term = 15.3873935546875\n",
            "Epoch 7160:         train accuracy = 0.1147 | logprob = 0.9612 | KL term = 15.398646484375\n",
            "Epoch 7180:         train accuracy = 0.1147 | logprob = 0.9659 | KL term = 15.4097412109375\n",
            "Epoch 7200:         train accuracy = 0.1146 | logprob = 0.9704 | KL term = 15.4207041015625\n",
            "Epoch 7220:         train accuracy = 0.1146 | logprob = 0.9748 | KL term = 15.4315185546875\n",
            "Epoch 7240:         train accuracy = 0.1146 | logprob = 0.9791 | KL term = 15.44221484375\n",
            "Epoch 7260:         train accuracy = 0.1146 | logprob = 0.9833 | KL term = 15.4528203125\n",
            "Epoch 7280:         train accuracy = 0.1145 | logprob = 0.9874 | KL term = 15.46330078125\n",
            "Epoch 7300:         train accuracy = 0.1145 | logprob = 0.9913 | KL term = 15.473619140625\n",
            "Epoch 7320:         train accuracy = 0.1145 | logprob = 0.9953 | KL term = 15.4837490234375\n",
            "Epoch 7340:         train accuracy = 0.1145 | logprob = 0.9991 | KL term = 15.4937646484375\n",
            "Epoch 7360:         train accuracy = 0.1145 | logprob = 1.0029 | KL term = 15.5036796875\n",
            "Epoch 7380:         train accuracy = 0.1145 | logprob = 1.0066 | KL term = 15.5135009765625\n",
            "Epoch 7400:         train accuracy = 0.1144 | logprob = 1.0103 | KL term = 15.52321875\n",
            "Epoch 7420:         train accuracy = 0.1144 | logprob = 1.0139 | KL term = 15.5328427734375\n",
            "Epoch 7440:         train accuracy = 0.1144 | logprob = 1.0175 | KL term = 15.5423984375\n",
            "Epoch 7460:         train accuracy = 0.1144 | logprob = 1.0211 | KL term = 15.5518896484375\n",
            "Epoch 7480:         train accuracy = 0.1144 | logprob = 1.0246 | KL term = 15.561322265625\n"
          ],
          "name": "stdout"
        },
        {
          "output_type": "display_data",
          "data": {
            "text/plain": [
              "<Figure size 432x288 with 0 Axes>"
            ]
          },
          "metadata": {
            "tags": []
          }
        }
      ]
    },
    {
      "cell_type": "markdown",
      "metadata": {
        "id": "swsMzcVWUepZ"
      },
      "source": [
        "## Comparison with MC\n",
        "\n",
        "We compare the output activations of the BNN as predicted using our deterministic approximation with the activations predicted by Monte Carlo approximation (see Figure 3 of the paper)"
      ]
    },
    {
      "cell_type": "code",
      "metadata": {
        "id": "5sC2uBNPUepZ",
        "colab": {
          "base_uri": "https://localhost:8080/",
          "height": 435
        },
        "outputId": "92ea0134-b947-45a4-cd93-ffd22c92ed5e"
      },
      "source": [
        "from matplotlib import rc\n",
        "rc('text', usetex=False)\n",
        "\n",
        "n_samp = 20000\n",
        "x=0.25\n",
        "ipt = [[[x]] for _ in range(n_samp)]\n",
        "sample_op = model_and_metrics['model'].run_with_MC(ipt, n_sample=n_samp)\n",
        "approx_op = model_and_metrics['model'](x)\n",
        "\n",
        "samples = sess.run(sample_op)\n",
        "approx = sess.run([approx_op.mean, approx_op.var])\n",
        "\n",
        "def gaussian1d(mean, var):\n",
        "    x_axis = np.linspace(-5,5,1000)\n",
        "    return x_axis, 1.0 / np.sqrt(2.0 * np.pi * var) * np.exp(-1.0 / (2.0 * var) * (x_axis - mean)**2)\n",
        "\n",
        "\n",
        "samples.shape\n",
        "plt.figure(figsize=(3,3))\n",
        "plt.hist(samples[:,0,0], int(np.round(15/0.5)), density=True, edgecolor='k', facecolor='#b4c7e7')\n",
        "plt.plot(*gaussian1d(approx[0][0,0], approx[1][0,0,0]), 'b')\n",
        "plt.xlim([-0.8,-0.5])\n",
        "plt.yticks([])\n",
        "plt.xlabel('$m$')\n",
        "plt.ylabel('$q(m)$')\n",
        "plt.savefig(\"empirical_m.png\", dpi=100, bbox_inches=\"tight\")\n",
        "plt.show()\n",
        "\n",
        "plt.figure(figsize=(3,3))\n",
        "plt.hist(samples[:,0,1], int(np.round(15/0.9)), density=True, edgecolor='k', facecolor='#b4c7e7', label=\"MC\")\n",
        "plt.plot(*gaussian1d(approx[0][0,1], approx[1][0,1,1]), 'b', label=\"DVI\")\n",
        "plt.xlim([-3.2,-2.3])\n",
        "plt.yticks([])\n",
        "plt.xlabel('$\\ell$')\n",
        "plt.ylabel('$q(\\ell)$')\n",
        "plt.legend()\n",
        "plt.savefig(\"empirical_l.png\", dpi=100, bbox_inches=\"tight\")\n",
        "plt.show()"
      ],
      "execution_count": 13,
      "outputs": [
        {
          "output_type": "display_data",
          "data": {
            "image/png": "[encoded data removed]",
            "text/plain": [
              "<Figure size 216x216 with 1 Axes>"
            ]
          },
          "metadata": {
            "tags": [],
            "needs_background": "light"
          }
        },
        {
          "output_type": "display_data",
          "data": {
            "image/png": "[encoded data removed]",
            "text/plain": [
              "<Figure size 216x216 with 1 Axes>"
            ]
          },
          "metadata": {
            "tags": [],
            "needs_background": "light"
          }
        }
      ]
    },
    {
      "cell_type": "code",
      "metadata": {
        "id": "2MG1ogLVUepa"
      },
      "source": [
        ""
      ],
      "execution_count": 10,
      "outputs": []
    }
  ]
}