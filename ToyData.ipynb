{
  "nbformat": 4,
  "nbformat_minor": 0,
  "metadata": {
    "kernelspec": {
      "display_name": "Python [conda env:tf_1.10_gpu_py_35]",
      "language": "python",
      "name": "conda-env-tf_1.10_gpu_py_35-py"
    },
    "language_info": {
      "codemirror_mode": {
        "name": "ipython",
        "version": 3
      },
      "file_extension": ".py",
      "mimetype": "text/x-python",
      "name": "python",
      "nbconvert_exporter": "python",
      "pygments_lexer": "ipython3",
      "version": "3.5.5"
    },
    "colab": {
      "name": "ToyData.ipynb",
      "provenance": [],
      "collapsed_sections": []
    }
  },
  "cells": [
    {
      "cell_type": "markdown",
      "metadata": {
        "id": "6xh2trbpUepG"
      },
      "source": [
        "# Deterministic Variational Inference: Toy example\n",
        "Code to accompany [**Fixing Variational Bayes: Deterministic Variational Inference for Bayesian Neural Networks**](https://arxiv.org/abs/1810.03958)"
      ]
    },
    {
      "cell_type": "code",
      "metadata": {
        "id": "iX60tMlDFIu6"
      },
      "source": [
        "!rm -rf deterministic-variational-inference"
      ],
      "execution_count": 1,
      "outputs": []
    },
    {
      "cell_type": "code",
      "metadata": {
        "id": "jhpa0_ecUfyG",
        "colab": {
          "base_uri": "https://localhost:8080/"
        },
        "outputId": "fdd27a61-1c73-4cf2-f884-758c0fee720b"
      },
      "source": [
        "!git clone https://github.com/EmptyJackson/deterministic-variational-inference\n",
        "%cd deterministic-variational-inference/"
      ],
      "execution_count": 2,
      "outputs": [
        {
          "output_type": "stream",
          "text": [
            "Cloning into 'deterministic-variational-inference'...\n",
            "remote: Enumerating objects: 7, done.\u001b[K\n",
            "remote: Counting objects:  14% (1/7)\u001b[K\rremote: Counting objects:  28% (2/7)\u001b[K\rremote: Counting objects:  42% (3/7)\u001b[K\rremote: Counting objects:  57% (4/7)\u001b[K\rremote: Counting objects:  71% (5/7)\u001b[K\rremote: Counting objects:  85% (6/7)\u001b[K\rremote: Counting objects: 100% (7/7)\u001b[K\rremote: Counting objects: 100% (7/7), done.\u001b[K\n",
            "remote: Compressing objects:  14% (1/7)\u001b[K\rremote: Compressing objects:  28% (2/7)\u001b[K\rremote: Compressing objects:  42% (3/7)\u001b[K\rremote: Compressing objects:  57% (4/7)\u001b[K\rremote: Compressing objects:  71% (5/7)\u001b[K\rremote: Compressing objects:  85% (6/7)\u001b[K\rremote: Compressing objects: 100% (7/7)\u001b[K\rremote: Compressing objects: 100% (7/7), done.\u001b[K\n",
            "Unpacking objects:   3% (1/30)   \rUnpacking objects:   6% (2/30)   \rUnpacking objects:  10% (3/30)   \rUnpacking objects:  13% (4/30)   \rUnpacking objects:  16% (5/30)   \rUnpacking objects:  20% (6/30)   \rUnpacking objects:  23% (7/30)   \rUnpacking objects:  26% (8/30)   \rUnpacking objects:  30% (9/30)   \rUnpacking objects:  33% (10/30)   \rUnpacking objects:  36% (11/30)   \rUnpacking objects:  40% (12/30)   \rUnpacking objects:  43% (13/30)   \rUnpacking objects:  46% (14/30)   \rremote: Total 30 (delta 0), reused 2 (delta 0), pack-reused 23\u001b[K\n",
            "Unpacking objects:  50% (15/30)   \rUnpacking objects:  53% (16/30)   \rUnpacking objects:  56% (17/30)   \rUnpacking objects:  60% (18/30)   \rUnpacking objects:  63% (19/30)   \rUnpacking objects:  66% (20/30)   \rUnpacking objects:  70% (21/30)   \rUnpacking objects:  73% (22/30)   \rUnpacking objects:  76% (23/30)   \rUnpacking objects:  80% (24/30)   \rUnpacking objects:  83% (25/30)   \rUnpacking objects:  86% (26/30)   \rUnpacking objects:  90% (27/30)   \rUnpacking objects:  93% (28/30)   \rUnpacking objects:  96% (29/30)   \rUnpacking objects: 100% (30/30)   \rUnpacking objects: 100% (30/30), done.\n",
            "/content/deterministic-variational-inference\n"
          ],
          "name": "stdout"
        }
      ]
    },
    {
      "cell_type": "code",
      "metadata": {
        "colab": {
          "base_uri": "https://localhost:8080/"
        },
        "id": "oiFvVi9LUepU",
        "outputId": "e70b2498-539e-4d3c-a4e7-d73aaa1c4fcd"
      },
      "source": [
        "%matplotlib inline\n",
        "\n",
        "import numpy as np\n",
        "import tensorflow.compat.v1 as tf\n",
        "tf.disable_v2_behavior()\n",
        "\n",
        "import matplotlib.pyplot as plt\n",
        "from IPython.display import clear_output\n",
        "import os, json \n",
        "\n",
        "import gaussian_variables as gv\n",
        "import utils as u\n",
        "import plot_utils as pu\n",
        "import bayes_layers as bnn\n",
        "from bayes_models import MLP, PointMLP, AdaptedMLP\n",
        "\n",
        "np.random.seed(3)"
      ],
      "execution_count": 3,
      "outputs": [
        {
          "output_type": "stream",
          "text": [
            "WARNING:tensorflow:From /usr/local/lib/python3.7/dist-packages/tensorflow/python/compat/v2_compat.py:96: disable_resource_variables (from tensorflow.python.ops.variable_scope) is deprecated and will be removed in a future version.\n",
            "Instructions for updating:\n",
            "non-resource variables are not supported in the long term\n"
          ],
          "name": "stdout"
        }
      ]
    },
    {
      "cell_type": "markdown",
      "metadata": {
        "id": "L3s0DeSTUepV"
      },
      "source": [
        "## Dataset\n",
        "\n",
        "First we generate a toy dataset according to:\n",
        "\n",
        "\\begin{equation}\n",
        "    y = -(x+0.5)\\sin(3\\pi x) + \\eta\n",
        "\\end{equation}\n",
        "\n",
        "Where the noise is generated according to:\n",
        "\n",
        "\\begin{equation}\n",
        "    \\eta = 0.45(x + 0.5)^2\n",
        "\\end{equation}"
      ]
    },
    {
      "cell_type": "code",
      "metadata": {
        "id": "2RpyhYfrUepV",
        "colab": {
          "base_uri": "https://localhost:8080/",
          "height": 283
        },
        "outputId": "3053c6b5-565c-4f5a-9fb0-088a6ab87827"
      },
      "source": [
        "def base_model(x):\n",
        "    return -(x+0.5)*np.sin(3 * np.pi *x)\n",
        "\n",
        "def noise_model(x):\n",
        "    return 0.45*(x+0.5)**2\n",
        "\n",
        "def sample_data(x):\n",
        "    return base_model(x) + np.random.normal(0, noise_model(x))\n",
        "\n",
        "data_size = {'train': 500, 'valid': 100, 'test': 100}\n",
        "toy_data = []\n",
        "for section in ['train', 'valid', 'test']:\n",
        "    x = (np.random.rand(data_size['train'], 1) - 0.5)\n",
        "    toy_data.append([x, sample_data(x).reshape(-1)])    \n",
        "x = np.arange(-1,1,1/100)\n",
        "toy_data.append([[[_] for _ in x], base_model(x)])\n",
        "\n",
        "pu.toy_results_plot(toy_data, {'mean':base_model, 'std':noise_model})"
      ],
      "execution_count": 4,
      "outputs": [
        {
          "output_type": "display_data",
          "data": {
            "image/png": "[encoded data removed]",
            "text/plain": [
              "<Figure size 432x288 with 1 Axes>"
            ]
          },
          "metadata": {
            "tags": [],
            "needs_background": "light"
          }
        }
      ]
    },
    {
      "cell_type": "markdown",
      "metadata": {
        "id": "VbCqZw7vUepX"
      },
      "source": [
        "# Model\n",
        "\n",
        "Here we set the hyperparameters and provide a function for constructing a Bayesian Neural Network."
      ]
    },
    {
      "cell_type": "code",
      "metadata": {
        "id": "26xuBfrZUepX"
      },
      "source": [
        "hypers = {\n",
        "    \"x_dim\": 1,                                \"y_dim\": 2,\n",
        "    \"hidden_dims\": [128,128],                  \"nonlinearity\": \"relu\",\n",
        "    \"adapter\": {\n",
        "        'in' : {\"scale\": [[1.0]], \"shift\": [[0.0]]},\n",
        "        'out': {\"scale\": [[1.0, 0.83]], \"shift\": [[0.0, -3.5]]}\n",
        "    },\n",
        "    \n",
        "    \"method\": \"bayes\",                         \"style\": \"heteroskedastic\",\n",
        "    \"homo_logvar_scale\": 2*np.log(0.2),        \"prior_type\": [\"empirical\", \"wider_he\", \"wider_he\"],\n",
        "    \n",
        "    \"n_epochs\": 20000,                         \"batch_size\": 500,\n",
        "    \"learning_rate\": 0.001,                    \"lambda\": 1.0,\n",
        "    \"warmup_updates\": {'lambda': 14000.0},     \"anneal_updates\": {'lambda': 1000.0},\n",
        "    \"optimizer\": \"adam\",                       \"gradient_clip\": 0.1,\n",
        "\n",
        "    \"data_fraction\": 1.0,                      \"sections_to_run\": [\"train\"]\n",
        "}"
      ],
      "execution_count": 5,
      "outputs": []
    },
    {
      "cell_type": "code",
      "metadata": {
        "id": "r7ma40-uUepX"
      },
      "source": [
        "def make_model(hypers):\n",
        "    if hypers['method'].lower().strip() == 'bayes':\n",
        "        MLP_factory = MLP\n",
        "        prediction = lambda y: tf.reshape(y.mean[:,0], [-1])\n",
        "        loss = bnn.regression_loss\n",
        "    else:\n",
        "        MLP_factory = PointMLP\n",
        "        prediction = lambda y: tf.reshape(y.mean[:,0], [-1])\n",
        "        loss = bnn.point_regression_loss\n",
        "        \n",
        "    mlp = MLP_factory(hypers['x_dim'], hypers['y_dim'], hypers)\n",
        "    mlp = AdaptedMLP(mlp)\n",
        "    mlp.make_placeholders()\n",
        "    ipt = mlp.placeholders['ipt_mean']\n",
        "    y = mlp(ipt)\n",
        "\n",
        "    target = tf.placeholder(tf.float32, [None])\n",
        "    mlp.placeholders['target'] = target\n",
        "    global_step = tf.Variable(0, trainable=False, name='global_step')\n",
        "    loss, logprob, all_surprise = loss(y, target, mlp, hypers, global_step)\n",
        "\n",
        "    accuracy = tf.reduce_mean(tf.abs(target - prediction(y)))\n",
        "    \n",
        "    return {\n",
        "        'model': mlp,\n",
        "        'metrics': {\n",
        "            'accuracy': accuracy,   'loss': loss,\n",
        "            'logprob': logprob,     'all_surprise': all_surprise\n",
        "            },\n",
        "        'global_step': global_step}"
      ],
      "execution_count": 6,
      "outputs": []
    },
    {
      "cell_type": "markdown",
      "metadata": {
        "id": "3vji4qCcUepY"
      },
      "source": [
        "## Training loop\n",
        "\n",
        "For the first `warmup_updates` epochs we run with the KL term in the elbo turned off. You will observe that the model starts to overfit the data. The KL term is then ramped back on and the model is trained with the full ELBO to convergence."
      ]
    },
    {
      "cell_type": "code",
      "metadata": {
        "scrolled": true,
        "id": "EitP5wjZUepY",
        "colab": {
          "base_uri": "https://localhost:8080/",
          "height": 385
        },
        "outputId": "9aeaa745-7838-4f8c-d013-422fa482117d"
      },
      "source": [
        "run_id = u.start_run()\n",
        "\n",
        "data = toy_data\n",
        "\n",
        "restricted_training_set = u.restrict_dataset_size(data[0], hypers['data_fraction'])\n",
        "hypers['dataset_size'] = len(restricted_training_set[0])\n",
        "\n",
        "device_id = 0\n",
        "device_string = u.get_device_string(device_id)\n",
        "print(hypers)\n",
        "with tf.device(device_string):\n",
        "    if True:\n",
        "        model_and_metrics = make_model(hypers)\n",
        "        train_op = u.make_optimizer(model_and_metrics, hypers)\n",
        "        sess = u.get_session()\n",
        "        saver = tf.train.Saver()\n",
        "\n",
        "        all_summaries = []\n",
        "        best_valid_accuracy = np.inf\n",
        "    \n",
        "    for epoch in range(hypers['n_epochs']):\n",
        "        verbose = (epoch % 20 == 0)\n",
        "        if verbose:\n",
        "            print(\"Epoch %i:        \" % epoch, end='')\n",
        "        epoch_summary, accuracies = u.train_valid_test(\n",
        "            {\n",
        "                'train': restricted_training_set,\n",
        "                'valid': data[1],\n",
        "                'test': data[2]\n",
        "            },\n",
        "            sess, model_and_metrics, train_op, hypers, verbose)\n",
        "\n",
        "        if epoch % 200 == 0:\n",
        "            clear_output()\n",
        "            predictions = u.get_predictions(data[3], sess, model_and_metrics['model'], hypers)\n",
        "            pu.toy_results_plot(toy_data, {'mean':base_model, 'std':noise_model}, hypers, predictions)\n",
        "            plt.show()\n",
        "\n",
        "        # dump log file\n",
        "        all_summaries.append(epoch_summary)\n",
        "        #with open(os.path.join(\"logs\", run_id, \"results.json\"), 'w') as f:\n",
        "        #    json.dump(all_summaries, f, indent=4, cls=u.NumpyEncoder)"
      ],
      "execution_count": null,
      "outputs": [
        {
          "output_type": "display_data",
          "data": {
            "image/png": "[encoded data removed]",
            "text/plain": [
              "<Figure size 432x288 with 1 Axes>"
            ]
          },
          "metadata": {
            "tags": []
          }
        },
        {
          "output_type": "stream",
          "text": [
            "Epoch 3420:         train accuracy = 0.2732 | logprob = -0.1481 | KL term = 13.577478515625\n",
            "Epoch 3440:         train accuracy = 0.2633 | logprob = -0.1384 | KL term = 13.587833984375\n",
            "Epoch 3460:         train accuracy = 0.2529 | logprob = -0.1289 | KL term = 13.5977890625\n",
            "Epoch 3480:         train accuracy = 0.2422 | logprob = -0.1189 | KL term = 13.607669921875\n",
            "Epoch 3500:         train accuracy = 0.2321 | logprob = -0.1084 | KL term = 13.6176904296875\n",
            "Epoch 3520:         train accuracy = 0.2227 | logprob = -0.0975 | KL term = 13.6279931640625\n"
          ],
          "name": "stdout"
        }
      ]
    },
    {
      "cell_type": "markdown",
      "metadata": {
        "id": "swsMzcVWUepZ"
      },
      "source": [
        "## Comparison with MC\n",
        "\n",
        "We compare the output activations of the BNN as predicted using our deterministic approximation with the activations predicted by Monte Carlo approximation (see Figure 3 of the paper)"
      ]
    },
    {
      "cell_type": "code",
      "metadata": {
        "id": "5sC2uBNPUepZ"
      },
      "source": [
        "from matplotlib import rc\n",
        "rc('text', usetex=True)\n",
        "\n",
        "n_samp = 20000\n",
        "x=0.25\n",
        "ipt = [[[x]] for _ in range(n_samp)]\n",
        "sample_op = model_and_metrics['model'].run_with_MC(ipt, n_sample=n_samp)\n",
        "approx_op = model_and_metrics['model'](x)\n",
        "\n",
        "samples = sess.run(sample_op)\n",
        "approx = sess.run([approx_op.mean, approx_op.var])\n",
        "\n",
        "def gaussian1d(mean, var):\n",
        "    x_axis = np.linspace(-5,5,1000)\n",
        "    return x_axis, 1.0 / np.sqrt(2.0 * np.pi * var) * np.exp(-1.0 / (2.0 * var) * (x_axis - mean)**2)\n",
        "\n",
        "\n",
        "samples.shape\n",
        "plt.figure(figsize=(3,2))\n",
        "plt.hist(samples[:,0,0], int(np.round(200/(1-0.3))), density=True, edgecolor='k', facecolor='#b4c7e7')\n",
        "plt.plot(*gaussian1d(approx[0][0,0], approx[1][0,0,0]), 'b')\n",
        "plt.xlim([-1,-0.3])\n",
        "plt.yticks([])\n",
        "plt.xlabel('$m$')\n",
        "plt.ylabel('$q(m)$')\n",
        "plt.show()\n",
        "\n",
        "plt.figure(figsize=(3,2))\n",
        "plt.hist(samples[:,0,1], int(np.round(200/(3.5-1.9))), density=True, edgecolor='k', facecolor='#b4c7e7', label=\"MC\")\n",
        "plt.plot(*gaussian1d(approx[0][0,1], approx[1][0,1,1]), 'b', label=\"ours\")\n",
        "plt.xlim([-3.5,-1.9])\n",
        "plt.yticks([])\n",
        "plt.xlabel('$\\ell$')\n",
        "plt.ylabel('$q(\\ell)$')\n",
        "plt.legend()\n",
        "plt.show()"
      ],
      "execution_count": null,
      "outputs": []
    },
    {
      "cell_type": "code",
      "metadata": {
        "id": "2MG1ogLVUepa"
      },
      "source": [
        ""
      ],
      "execution_count": null,
      "outputs": []
    }
  ]
}